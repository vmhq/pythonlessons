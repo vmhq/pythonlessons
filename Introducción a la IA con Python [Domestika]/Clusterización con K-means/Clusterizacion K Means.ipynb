{
  "cells": [
    {
      "cell_type": "code",
      "execution_count": null,
      "metadata": {
        "id": "85-7YRY0AN-c"
      },
      "outputs": [],
      "source": [
        "import pandas as pd\n",
        "datos = pd.read_csv(\"housing.csv\")"
      ]
    },
    {
      "cell_type": "code",
      "execution_count": null,
      "metadata": {
        "id": "_8ZB-ypZCps0"
      },
      "outputs": [],
      "source": [
        "datos.head()"
      ]
    },
    {
      "cell_type": "code",
      "execution_count": null,
      "metadata": {
        "id": "Br1DxPBYDApV"
      },
      "outputs": [],
      "source": [
        "import seaborn as sb\n",
        "sb.scatterplot(x=\"latitude\", y=\"longitude\", data=datos, hue=\"median_house_value\",\n",
        "               palette=\"coolwarm\")"
      ]
    },
    {
      "cell_type": "code",
      "execution_count": null,
      "metadata": {
        "id": "TFzHbi7hDXml"
      },
      "outputs": [],
      "source": [
        "import seaborn as sb\n",
        "sb.scatterplot(x=\"latitude\", y=\"longitude\", data=datos, hue=\"median_income\",\n",
        "               s=datos[\"median_income\"])"
      ]
    },
    {
      "cell_type": "code",
      "execution_count": null,
      "metadata": {
        "id": "ztitI2IFFbse"
      },
      "outputs": [],
      "source": [
        "datos.loc[:, [\"latitude\", \"longitude\", \"median_income\"]]"
      ]
    },
    {
      "cell_type": "code",
      "execution_count": null,
      "metadata": {
        "id": "IhYNPTNnFprD"
      },
      "outputs": [],
      "source": [
        "from sklearn.cluster import KMeans\n",
        "\n",
        "X = datos.loc[:, [\"latitude\", \"longitude\", \"median_income\"]]\n",
        "modelo = KMeans(n_clusters=6)\n",
        "predicciones = modelo.fit_predict(X)"
      ]
    },
    {
      "cell_type": "code",
      "execution_count": null,
      "metadata": {
        "id": "5oP2wUaAGM5u"
      },
      "outputs": [],
      "source": [
        "predicciones.shape"
      ]
    },
    {
      "cell_type": "code",
      "execution_count": null,
      "metadata": {
        "id": "Uf5G1_FdGZNi"
      },
      "outputs": [],
      "source": [
        "X[\"segmento_economico\"] = predicciones"
      ]
    },
    {
      "cell_type": "code",
      "execution_count": null,
      "metadata": {
        "id": "uIo_fe6-GeDg"
      },
      "outputs": [],
      "source": [
        "X"
      ]
    },
    {
      "cell_type": "code",
      "execution_count": null,
      "metadata": {
        "id": "a9EuT78vGgTI"
      },
      "outputs": [],
      "source": [
        "X[\"segmento_economico\"].value_counts()"
      ]
    },
    {
      "cell_type": "code",
      "execution_count": null,
      "metadata": {
        "id": "5UMu88h-G8dZ"
      },
      "outputs": [],
      "source": [
        "import seaborn as sb\n",
        "sb.scatterplot(x=\"latitude\", y=\"longitude\", data=X, hue=\"segmento_economico\",\n",
        "               palette=\"bright\")"
      ]
    },
    {
      "cell_type": "code",
      "execution_count": null,
      "metadata": {
        "id": "sI3j8_w0HmVL"
      },
      "outputs": [],
      "source": [
        "sb.countplot(x=\"segmento_economico\", data=X)"
      ]
    },
    {
      "cell_type": "code",
      "execution_count": null,
      "metadata": {
        "id": "hOUlK9VoHtGT"
      },
      "outputs": [],
      "source": [
        "X.groupby([\"segmento_economico\"])[\"median_income\"].mean()"
      ]
    }
  ],
  "metadata": {
    "colab": {
      "provenance": []
    },
    "kernelspec": {
      "display_name": "Python 3",
      "name": "python3"
    },
    "language_info": {
      "name": "python",
      "version": "3.10.12"
    }
  },
  "nbformat": 4,
  "nbformat_minor": 0
}
